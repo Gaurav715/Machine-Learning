{
 "cells": [
  {
   "cell_type": "markdown",
   "metadata": {},
   "source": [
    "# convulation_neural_network\n"
   ]
  },
  {
   "cell_type": "markdown",
   "metadata": {},
   "source": [
    "IMPORTING LIBRARY"
   ]
  },
  {
   "cell_type": "code",
   "execution_count": 1,
   "metadata": {},
   "outputs": [
    {
     "name": "stderr",
     "output_type": "stream",
     "text": [
      "Using TensorFlow backend.\n"
     ]
    }
   ],
   "source": [
    "import tensorflow as tf\n",
    "from keras.preprocessing.image import ImageDataGenerator\n",
    "from keras.layers import Convolution2D\n",
    "from keras.layers import MaxPooling2D\n",
    "from keras.layers import Flatten\n",
    "from keras.layers import Dense\n",
    "from keras.models import Sequential"
   ]
  },
  {
   "cell_type": "markdown",
   "metadata": {},
   "source": [
    "initializing the cnn"
   ]
  },
  {
   "cell_type": "code",
   "execution_count": 2,
   "metadata": {},
   "outputs": [],
   "source": [
    "clf = Sequential()"
   ]
  },
  {
   "cell_type": "markdown",
   "metadata": {},
   "source": [
    "make convulation layers "
   ]
  },
  {
   "cell_type": "code",
   "execution_count": 3,
   "metadata": {},
   "outputs": [
    {
     "name": "stdout",
     "output_type": "stream",
     "text": [
      "WARNING:tensorflow:From D:\\anaconda\\lib\\site-packages\\tensorflow_core\\python\\ops\\resource_variable_ops.py:1630: calling BaseResourceVariable.__init__ (from tensorflow.python.ops.resource_variable_ops) with constraint is deprecated and will be removed in a future version.\n",
      "Instructions for updating:\n",
      "If using Keras pass *_constraint arguments to layers.\n"
     ]
    },
    {
     "name": "stderr",
     "output_type": "stream",
     "text": [
      "D:\\anaconda\\lib\\site-packages\\ipykernel_launcher.py:1: UserWarning: Update your `Conv2D` call to the Keras 2 API: `Conv2D(32, (3, 3), input_shape=(64, 64, 3..., activation=\"relu\")`\n",
      "  \"\"\"Entry point for launching an IPython kernel.\n"
     ]
    }
   ],
   "source": [
    "clf.add(Convolution2D(32, 3, 3,input_shape =(64,64,3),activation = 'relu'))"
   ]
  },
  {
   "cell_type": "markdown",
   "metadata": {},
   "source": [
    "pooling "
   ]
  },
  {
   "cell_type": "code",
   "execution_count": 4,
   "metadata": {},
   "outputs": [
    {
     "name": "stdout",
     "output_type": "stream",
     "text": [
      "WARNING:tensorflow:From D:\\anaconda\\lib\\site-packages\\keras\\backend\\tensorflow_backend.py:4070: The name tf.nn.max_pool is deprecated. Please use tf.nn.max_pool2d instead.\n",
      "\n"
     ]
    }
   ],
   "source": [
    "clf.add(MaxPooling2D(pool_size =(2,2)))"
   ]
  },
  {
   "cell_type": "markdown",
   "metadata": {},
   "source": [
    "Insert new convulation network layers"
   ]
  },
  {
   "cell_type": "code",
   "execution_count": 5,
   "metadata": {},
   "outputs": [],
   "source": [
    "#clf.add(Convolution2D(32, 3, 3 ,activation = 'relu'))\n",
    "#clf.add(MaxPooling2D(pool_size =(2,2)))"
   ]
  },
  {
   "cell_type": "markdown",
   "metadata": {},
   "source": [
    "Flattening"
   ]
  },
  {
   "cell_type": "code",
   "execution_count": 6,
   "metadata": {},
   "outputs": [],
   "source": [
    "clf.add(Flatten())"
   ]
  },
  {
   "cell_type": "markdown",
   "metadata": {},
   "source": [
    "Full_Connection"
   ]
  },
  {
   "cell_type": "code",
   "execution_count": 7,
   "metadata": {},
   "outputs": [
    {
     "name": "stderr",
     "output_type": "stream",
     "text": [
      "D:\\anaconda\\lib\\site-packages\\ipykernel_launcher.py:1: UserWarning: Update your `Dense` call to the Keras 2 API: `Dense(activation=\"relu\", units=128)`\n",
      "  \"\"\"Entry point for launching an IPython kernel.\n"
     ]
    }
   ],
   "source": [
    "clf.add(Dense(output_dim = 128, activation = 'relu' ))"
   ]
  },
  {
   "cell_type": "markdown",
   "metadata": {},
   "source": [
    "output"
   ]
  },
  {
   "cell_type": "code",
   "execution_count": 8,
   "metadata": {},
   "outputs": [
    {
     "name": "stderr",
     "output_type": "stream",
     "text": [
      "D:\\anaconda\\lib\\site-packages\\ipykernel_launcher.py:1: UserWarning: Update your `Dense` call to the Keras 2 API: `Dense(activation=\"sigmoid\", units=1)`\n",
      "  \"\"\"Entry point for launching an IPython kernel.\n"
     ]
    }
   ],
   "source": [
    "clf.add(Dense(output_dim = 1, activation = 'sigmoid' ))"
   ]
  },
  {
   "cell_type": "markdown",
   "metadata": {},
   "source": [
    "compile the CNN "
   ]
  },
  {
   "cell_type": "code",
   "execution_count": 9,
   "metadata": {},
   "outputs": [
    {
     "name": "stdout",
     "output_type": "stream",
     "text": [
      "WARNING:tensorflow:From D:\\anaconda\\lib\\site-packages\\tensorflow_core\\python\\ops\\nn_impl.py:183: where (from tensorflow.python.ops.array_ops) is deprecated and will be removed in a future version.\n",
      "Instructions for updating:\n",
      "Use tf.where in 2.0, which has the same broadcast rule as np.where\n"
     ]
    }
   ],
   "source": [
    "clf.compile(optimizer = 'adam' , loss = 'binary_crossentropy',metrics =['accuracy'])"
   ]
  },
  {
   "cell_type": "markdown",
   "metadata": {},
   "source": [
    "Fitting the CNN to images"
   ]
  },
  {
   "cell_type": "code",
   "execution_count": 10,
   "metadata": {},
   "outputs": [
    {
     "name": "stdout",
     "output_type": "stream",
     "text": [
      "Found 8000 images belonging to 2 classes.\n",
      "Found 2000 images belonging to 2 classes.\n",
      "WARNING:tensorflow:From D:\\anaconda\\lib\\site-packages\\keras\\backend\\tensorflow_backend.py:422: The name tf.global_variables is deprecated. Please use tf.compat.v1.global_variables instead.\n",
      "\n",
      "Epoch 1/25\n",
      "8000/8000 [==============================] - 3274s 409ms/step - loss: 0.4167 - accuracy: 0.8008 - val_loss: 0.4320 - val_accuracy: 0.7545\n",
      "Epoch 2/25\n",
      "8000/8000 [==============================] - 1862s 233ms/step - loss: 0.1803 - accuracy: 0.9275 - val_loss: 1.1368 - val_accuracy: 0.7570\n",
      "Epoch 3/25\n",
      "8000/8000 [==============================] - 1673s 209ms/step - loss: 0.0965 - accuracy: 0.9646 - val_loss: 0.3102 - val_accuracy: 0.7700\n",
      "Epoch 4/25\n",
      "8000/8000 [==============================] - 1677s 210ms/step - loss: 0.0638 - accuracy: 0.9774 - val_loss: 3.5631 - val_accuracy: 0.7589\n",
      "Epoch 5/25\n",
      "8000/8000 [==============================] - 1673s 209ms/step - loss: 0.0491 - accuracy: 0.9829 - val_loss: 1.6144 - val_accuracy: 0.7694\n",
      "Epoch 6/25\n",
      "8000/8000 [==============================] - 1689s 211ms/step - loss: 0.0391 - accuracy: 0.9865 - val_loss: 3.2553 - val_accuracy: 0.7595\n",
      "Epoch 7/25\n",
      "8000/8000 [==============================] - 1665s 208ms/step - loss: 0.0349 - accuracy: 0.9887 - val_loss: 1.6434 - val_accuracy: 0.7438\n",
      "Epoch 8/25\n",
      "8000/8000 [==============================] - 1669s 209ms/step - loss: 0.0304 - accuracy: 0.9899 - val_loss: 1.1245 - val_accuracy: 0.7602\n",
      "Epoch 9/25\n",
      "8000/8000 [==============================] - 1670s 209ms/step - loss: 0.0277 - accuracy: 0.9913 - val_loss: 2.9896 - val_accuracy: 0.7520\n",
      "Epoch 10/25\n",
      "8000/8000 [==============================] - 1671s 209ms/step - loss: 0.0245 - accuracy: 0.9922 - val_loss: 1.6125 - val_accuracy: 0.7525\n",
      "Epoch 11/25\n",
      "8000/8000 [==============================] - 1668s 209ms/step - loss: 0.0217 - accuracy: 0.9931 - val_loss: 2.9187 - val_accuracy: 0.7681\n",
      "Epoch 12/25\n",
      "8000/8000 [==============================] - 1671s 209ms/step - loss: 0.0207 - accuracy: 0.9936 - val_loss: 2.7231 - val_accuracy: 0.7571\n",
      "Epoch 13/25\n",
      "8000/8000 [==============================] - 1668s 208ms/step - loss: 0.0179 - accuracy: 0.9943 - val_loss: 1.9661 - val_accuracy: 0.7645\n",
      "Epoch 14/25\n",
      "8000/8000 [==============================] - 1673s 209ms/step - loss: 0.0167 - accuracy: 0.9947 - val_loss: 2.4404 - val_accuracy: 0.7623\n",
      "Epoch 15/25\n",
      "8000/8000 [==============================] - 2713s 339ms/step - loss: 0.0151 - accuracy: 0.9951 - val_loss: 2.2276 - val_accuracy: 0.7551\n",
      "Epoch 16/25\n",
      "8000/8000 [==============================] - 3085s 386ms/step - loss: 0.0146 - accuracy: 0.9954 - val_loss: 2.1297 - val_accuracy: 0.7601\n",
      "Epoch 17/25\n",
      "8000/8000 [==============================] - 3115s 389ms/step - loss: 0.0135 - accuracy: 0.9957 - val_loss: 2.5292 - val_accuracy: 0.7741\n",
      "Epoch 18/25\n",
      "8000/8000 [==============================] - 2571s 321ms/step - loss: 0.0139 - accuracy: 0.9959 - val_loss: 3.4017 - val_accuracy: 0.7662\n",
      "Epoch 19/25\n",
      "8000/8000 [==============================] - 1975s 247ms/step - loss: 0.0132 - accuracy: 0.9961 - val_loss: 2.6553 - val_accuracy: 0.7775\n",
      "Epoch 20/25\n",
      "8000/8000 [==============================] - 1763s 220ms/step - loss: 0.0119 - accuracy: 0.9963 - val_loss: 1.7315 - val_accuracy: 0.7683\n",
      "Epoch 21/25\n",
      "8000/8000 [==============================] - 1599s 200ms/step - loss: 0.0111 - accuracy: 0.9966 - val_loss: 2.3393 - val_accuracy: 0.7639\n",
      "Epoch 22/25\n",
      "8000/8000 [==============================] - 1594s 199ms/step - loss: 0.0103 - accuracy: 0.9969 - val_loss: 1.5153 - val_accuracy: 0.7686\n",
      "Epoch 23/25\n",
      "8000/8000 [==============================] - 2781s 348ms/step - loss: 0.0103 - accuracy: 0.9970 - val_loss: 3.0475 - val_accuracy: 0.7629\n",
      "Epoch 24/25\n",
      "8000/8000 [==============================] - 2811s 351ms/step - loss: 0.0096 - accuracy: 0.9971 - val_loss: 1.7602 - val_accuracy: 0.7494\n",
      "Epoch 25/25\n",
      "8000/8000 [==============================] - 2805s 351ms/step - loss: 0.0099 - accuracy: 0.9971 - val_loss: 4.4655 - val_accuracy: 0.7520\n"
     ]
    },
    {
     "data": {
      "text/plain": [
       "<keras.callbacks.callbacks.History at 0x2ace9408c48>"
      ]
     },
     "execution_count": 10,
     "metadata": {},
     "output_type": "execute_result"
    }
   ],
   "source": [
    "from keras.preprocessing.image import ImageDataGenerator\n",
    "train_datagen = ImageDataGenerator(\n",
    "        rescale=1./255,\n",
    "        shear_range=0.2,\n",
    "        zoom_range=0.2,\n",
    "        horizontal_flip=True)\n",
    "test_datagen = ImageDataGenerator(rescale=1./255)\n",
    "\n",
    "training_set = train_datagen.flow_from_directory( 'C:/Users/gaura/Desktop/MachineLearning/7.Deep_Learning/Convolutional Neural Networks/dataset/training_set',\n",
    "                                                   target_size=(64, 64),\n",
    "                                                   batch_size=32,\n",
    "                                                   class_mode='binary')\n",
    "\n",
    "\n",
    "test_set= test_datagen.flow_from_directory('C:/Users/gaura/Desktop/MachineLearning/7.Deep_Learning/Convolutional Neural Networks/dataset/test_set',\n",
    "                                            target_size=(64, 64),\n",
    "                                            batch_size=32,\n",
    "                                            class_mode='binary')\n",
    "        \n",
    "clf.fit_generator( training_set,\n",
    "                    steps_per_epoch=8000,\n",
    "                    epochs=25,\n",
    "                    validation_data=test_set,\n",
    "                    validation_steps=2000)"
   ]
  },
  {
   "cell_type": "markdown",
   "metadata": {},
   "source": []
  }
 ],
 "metadata": {
  "kernelspec": {
   "display_name": "Python 3",
   "language": "python",
   "name": "python3"
  },
  "language_info": {
   "codemirror_mode": {
    "name": "ipython",
    "version": 3
   },
   "file_extension": ".py",
   "mimetype": "text/x-python",
   "name": "python",
   "nbconvert_exporter": "python",
   "pygments_lexer": "ipython3",
   "version": "3.7.6"
  }
 },
 "nbformat": 4,
 "nbformat_minor": 4
}
